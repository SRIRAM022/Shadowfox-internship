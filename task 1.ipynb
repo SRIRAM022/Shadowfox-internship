{
 "cells": [
  {
   "cell_type": "code",
   "execution_count": 1,
   "id": "caa776ab",
   "metadata": {},
   "outputs": [
    {
     "name": "stdout",
     "output_type": "stream",
     "text": [
      "<class 'float'>\n"
     ]
    }
   ],
   "source": [
    "pi = 22/7\n",
    "print(type(pi))  # Check the data type of the variable\n"
   ]
  },
  {
   "cell_type": "code",
   "execution_count": 2,
   "id": "53be8cb8",
   "metadata": {},
   "outputs": [
    {
     "ename": "SyntaxError",
     "evalue": "invalid syntax (3025739943.py, line 1)",
     "output_type": "error",
     "traceback": [
      "\u001b[1;36m  File \u001b[1;32m\"C:\\Users\\abiji\\AppData\\Local\\Temp\\ipykernel_11232\\3025739943.py\"\u001b[1;36m, line \u001b[1;32m1\u001b[0m\n\u001b[1;33m    for = 4  # This will result in a syntax error because \"for\" is a reserved keyword in Python and cannot be used as a variable name.\u001b[0m\n\u001b[1;37m        ^\u001b[0m\n\u001b[1;31mSyntaxError\u001b[0m\u001b[1;31m:\u001b[0m invalid syntax\n"
     ]
    }
   ],
   "source": [
    "for = 4  # This will result in a syntax error because \"for\" is a reserved keyword in Python and cannot be used as a variable name.\n"
   ]
  },
  {
   "cell_type": "code",
   "execution_count": 6,
   "id": "b6a47812",
   "metadata": {},
   "outputs": [
    {
     "name": "stdout",
     "output_type": "stream",
     "text": [
      "Simple Interest for 3 years: 150.0\n"
     ]
    }
   ],
   "source": [
    "principal_amount = 1000  # Example principal amount\n",
    "rate_of_interest = 0.05  # Example rate of interest (5%)\n",
    "time = 3  # Example time in years\n",
    "\n",
    "# Simple Interest formula: SI = (P * R * T) / 100\n",
    "simple_interest = (principal_amount * rate_of_interest * time)\n",
    "print(\"Simple Interest for 3 years:\", simple_interest)"
   ]
  },
  {
   "cell_type": "code",
   "execution_count": 5,
   "id": "7006301f",
   "metadata": {},
   "outputs": [
    {
     "name": "stdout",
     "output_type": "stream",
     "text": [
      "Argument 1: 145, Argument 2: o\n"
     ]
    }
   ],
   "source": [
    "def format_string(arg1, arg2):\n",
    "    formatted_string = \"Argument 1: {0}, Argument 2: {1}\".format(arg1, arg2)\n",
    "    return formatted_string\n",
    "\n",
    "# Call the function with arguments 145 and 'o'\n",
    "result = format_string(145, 'o')\n",
    "print(result)"
   ]
  },
  {
   "cell_type": "code",
   "execution_count": 7,
   "id": "2905359d",
   "metadata": {},
   "outputs": [
    {
     "name": "stdout",
     "output_type": "stream",
     "text": [
      "The area of the circular pond is: 22155.84 square meters\n"
     ]
    }
   ],
   "source": [
    "# Given values\n",
    "radius = 84\n",
    "pi = 3.14\n",
    "\n",
    "# Calculate the area of the pond\n",
    "area = pi * radius ** 2\n",
    "\n",
    "# Print the result\n",
    "print(\"The area of the circular pond is:\", area, \"square meters\")"
   ]
  },
  {
   "cell_type": "code",
   "execution_count": 8,
   "id": "5ebcdab8",
   "metadata": {},
   "outputs": [
    {
     "name": "stdout",
     "output_type": "stream",
     "text": [
      "The total amount of water in the pond is: 31018\n"
     ]
    }
   ],
   "source": [
    "# Given values\n",
    "water_per_square_meter = 1.4  # liters\n",
    "total_water = area * water_per_square_meter\n",
    "\n",
    "# Round the total water to the nearest whole number\n",
    "total_water = round(total_water)\n",
    "\n",
    "# Print the total amount of water without any decimal point\n",
    "print(\"The total amount of water in the pond is:\", total_water)"
   ]
  },
  {
   "cell_type": "code",
   "execution_count": 9,
   "id": "4758e342",
   "metadata": {},
   "outputs": [
    {
     "name": "stdout",
     "output_type": "stream",
     "text": [
      "Your speed in meters per second is: 1\n"
     ]
    }
   ],
   "source": [
    "distance = 490  # meters\n",
    "time_minutes = 7  # minutes\n",
    "\n",
    "# Convert time to seconds\n",
    "time_seconds = time_minutes * 60  # 1 minute = 60 seconds\n",
    "\n",
    "# Calculate the speed\n",
    "speed = distance / time_seconds\n",
    "\n",
    "# Round the speed to the nearest whole number\n",
    "speed = round(speed)\n",
    "\n",
    "# Print the speed without any decimal point\n",
    "print(\"Your speed in meters per second is:\", speed)"
   ]
  },
  {
   "cell_type": "code",
   "execution_count": 10,
   "id": "68a6f6f6",
   "metadata": {},
   "outputs": [
    {
     "name": "stdout",
     "output_type": "stream",
     "text": [
      "Number of members in the Justice League: 6\n",
      "Updated Justice League: ['Cyborg', 'Green Arrow', 'Hawkgirl', 'Martian Manhunter', 'Shazam']\n"
     ]
    }
   ],
   "source": [
    "# Original list of Justice League members\n",
    "justice_league = [\"Superman\", \"Batman\", \"Wonder Woman\", \"Flash\", \"Aquaman\", \"Green Lantern\"]\n",
    "\n",
    "# Task 1: Calculate the number of members in the Justice League\n",
    "num_members = len(justice_league)\n",
    "print(\"Number of members in the Justice League:\", num_members)\n",
    "\n",
    "# Task 2: Batman recruited Batgirl and Nightwing as new members. Add them to your list.\n",
    "justice_league.extend([\"Batgirl\", \"Nightwing\"])\n",
    "\n",
    "# Task 3: Wonder Woman is now the leader of the Justice League. Move her to the beginning of the list.\n",
    "justice_league.remove(\"Wonder Woman\")\n",
    "justice_league.insert(0, \"Wonder Woman\")\n",
    "\n",
    "# Task 4: Choose either \"Green Lantern\" or \"Superman\" and move them in between Aquaman and Flash.\n",
    "# Let's choose \"Superman\"\n",
    "justice_league.remove(\"Superman\")\n",
    "justice_league.insert(justice_league.index(\"Aquaman\") + 1, \"Superman\")\n",
    "\n",
    "# Task 5: Replace the existing list with the new members\n",
    "new_members = [\"Cyborg\", \"Shazam\", \"Hawkgirl\", \"Martian Manhunter\", \"Green Arrow\"]\n",
    "justice_league = new_members\n",
    "\n",
    "# Task 6: Sort the Justice League alphabetically\n",
    "justice_league.sort()\n",
    "\n",
    "# Print the updated Justice League\n",
    "print(\"Updated Justice League:\", justice_league)"
   ]
  },
  {
   "cell_type": "code",
   "execution_count": 11,
   "id": "777c2c8b",
   "metadata": {},
   "outputs": [
    {
     "name": "stdout",
     "output_type": "stream",
     "text": [
      "Enter height in meters: 190\n",
      "Enter weight in kilograms: 98\n",
      "BMI Category: Underweight\n"
     ]
    }
   ],
   "source": [
    "# Ask the user to enter height in meters\n",
    "height = float(input(\"Enter height in meters: \"))\n",
    "\n",
    "# Ask the user to enter weight in kilograms\n",
    "weight = float(input(\"Enter weight in kilograms: \"))\n",
    "\n",
    "# Calculate BMI using the formula: BMI = weight / (height)^2\n",
    "bmi = weight / (height ** 2)\n",
    "\n",
    "# Determine the BMI category\n",
    "if bmi >= 30:\n",
    "    category = \"Obesity\"\n",
    "elif 25 <= bmi < 30:\n",
    "    category = \"Overweight\"\n",
    "elif 18.5 <= bmi < 25:\n",
    "    category = \"Normal\"\n",
    "else:\n",
    "    category = \"Underweight\"\n",
    "\n",
    "# Print the BMI category\n",
    "print(\"BMI Category:\", category)\n"
   ]
  },
  {
   "cell_type": "code",
   "execution_count": 12,
   "id": "a7f1b491",
   "metadata": {},
   "outputs": [
    {
     "name": "stdout",
     "output_type": "stream",
     "text": [
      "Enter a city name: sydney\n",
      "sydney is in Unknown\n"
     ]
    }
   ],
   "source": [
    "australia_cities = [\"Sydney\", \"Melbourne\", \"Brisbane\", \"Perth\"]\n",
    "uae_cities = [\"Dubai\", \"Abu Dhabi\", \"Sharjah\", \"Ajman\"]\n",
    "india_cities = [\"Mumbai\", \"Bangalore\", \"Chennai\", \"Delhi\"]\n",
    "\n",
    "\n",
    "city_name = input(\"Enter a city name: \")\n",
    "\n",
    "\n",
    "if city_name in australia_cities:\n",
    "    country = \"Australia\"\n",
    "elif city_name in uae_cities:\n",
    "    country = \"UAE\"\n",
    "elif city_name in india_cities:\n",
    "    country = \"India\"\n",
    "else:\n",
    "    country = \"Unknown\" \n",
    "\n",
    "\n",
    "print(city_name, \"is in\", country)"
   ]
  },
  {
   "cell_type": "code",
   "execution_count": 13,
   "id": "e3a8a5af",
   "metadata": {},
   "outputs": [
    {
     "name": "stdout",
     "output_type": "stream",
     "text": [
      "Enter the first city: sydney \n",
      "Enter the second city: Dubai\n",
      "They don't belong to the same country\n"
     ]
    }
   ],
   "source": [
    "cities_per_country = {\n",
    "    \"Australia\": [\"Sydney\", \"Melbourne\", \"Brisbane\", \"Perth\"],\n",
    "    \"UAE\": [\"Dubai\", \"Abu Dhabi\", \"Sharjah\", \"Ajman\"],\n",
    "    \"India\": [\"Mumbai\", \"Bangalore\", \"Chennai\", \"Delhi\"]\n",
    "}\n",
    "\n",
    "# Ask the user to enter the first city\n",
    "first_city = input(\"Enter the first city: \")\n",
    "\n",
    "# Ask the user to enter the second city\n",
    "second_city = input(\"Enter the second city: \")\n",
    "\n",
    "# Determine the country for the first city\n",
    "first_city_country = None\n",
    "for country, cities in cities_per_country.items():\n",
    "    if first_city in cities:\n",
    "        first_city_country = country\n",
    "        break\n",
    "\n",
    "# Determine the country for the second city\n",
    "second_city_country = None\n",
    "for country, cities in cities_per_country.items():\n",
    "    if second_city in cities:\n",
    "        second_city_country = country\n",
    "        break\n",
    "\n",
    "# Check if both cities belong to the same country\n",
    "if first_city_country == second_city_country:\n",
    "    print(\"Both cities are in\", first_city_country)\n",
    "else:\n",
    "    print(\"They don't belong to the same country\")"
   ]
  },
  {
   "cell_type": "code",
   "execution_count": 14,
   "id": "c8464df2",
   "metadata": {},
   "outputs": [
    {
     "name": "stdout",
     "output_type": "stream",
     "text": [
      "Number of times rolled a 6: 2\n",
      "Number of times rolled a 1: 6\n",
      "Number of times rolled two 6s in a row: 0\n"
     ]
    }
   ],
   "source": [
    "import random\n",
    "\n",
    "# Initialize variables to count statistics\n",
    "six_count = 0\n",
    "one_count = 0\n",
    "double_six_count = 0\n",
    "prev_roll = None\n",
    "\n",
    "\n",
    "for _ in range(20):\n",
    "    \n",
    "    roll = random.randint(1, 6)\n",
    " \n",
    "    if roll == 6:\n",
    "        six_count += 1\n",
    "        if prev_roll == 6: \n",
    "            double_six_count += 1\n",
    "    elif roll == 1:\n",
    "        one_count += 1\n",
    "    \n",
    "    \n",
    "    prev_roll = roll\n",
    "\n",
    "# Print the statistics\n",
    "print(\"Number of times rolled a 6:\", six_count)\n",
    "print(\"Number of times rolled a 1:\", one_count)\n",
    "print(\"Number of times rolled two 6s in a row:\", double_six_count)\n"
   ]
  },
  {
   "cell_type": "code",
   "execution_count": null,
   "id": "dd24fd12",
   "metadata": {},
   "outputs": [
    {
     "name": "stdout",
     "output_type": "stream",
     "text": [
      "Perform 10 jumping jacks\n",
      "Are you tired? (yes/no): yes\n",
      "Do you want to skip the remaining sets? (yes/no): no\n",
      "Perform 10 jumping jacks\n",
      "Are you tired? (yes/no): yes\n",
      "Do you want to skip the remaining sets? (yes/no): no\n",
      "Perform 10 jumping jacks\n",
      "Are you tired? (yes/no): ni\n",
      "You have 70 jumping jacks remaining.\n",
      "Perform 10 jumping jacks\n"
     ]
    }
   ],
   "source": [
    "total_jumping_jacks = 100\n",
    "\n",
    "while total_jumping_jacks > 0:\n",
    "    print(\"Perform 10 jumping jacks\")\n",
    "    total_jumping_jacks -= 10\n",
    "    \n",
    "    tired = input(\"Are you tired? (yes/no): \").lower()\n",
    "    \n",
    "    if tired == \"yes\" or tired == \"y\":\n",
    "        skip_remaining = input(\"Do you want to skip the remaining sets? (yes/no): \").lower()\n",
    "        if skip_remaining == \"yes\" or skip_remaining == \"y\":\n",
    "            print(\"You completed a total of\", 100 - total_jumping_jacks, \"jumping jacks.\")\n",
    "            break\n",
    "    else:\n",
    "        print(\"You have\", total_jumping_jacks, \"jumping jacks remaining.\")\n",
    "        continue\n",
    "\n",
    "if total_jumping_jacks == 0:\n",
    "    print(\"Congratulations! You completed the workout.\")\n"
   ]
  },
  {
   "cell_type": "code",
   "execution_count": null,
   "id": "24401207",
   "metadata": {},
   "outputs": [],
   "source": [
    "# List of friends' names\n",
    "friends = [\"Alice\", \"Bob\", \"Charlie\", \"David\", \"Emma\"]\n",
    "\n",
    "# List of tuples containing friend's name and length of the name\n",
    "friend_name_length = [(friend, len(friend)) for friend in friends]\n",
    "\n",
    "# Print the list of tuples\n",
    "print(\"List of tuples (Friend's Name, Length of Name):\", friend_name_length)"
   ]
  },
  {
   "cell_type": "code",
   "execution_count": null,
   "id": "daf49b8c",
   "metadata": {},
   "outputs": [],
   "source": [
    "your_expenses = {\n",
    "    \"Hotel\": 1200,\n",
    "    \"Food\": 800,\n",
    "    \"Transportation\": 500,\n",
    "    \"Attractions\": 300,\n",
    "    \"Miscellaneous\": 200\n",
    "}\n",
    "\n",
    "partner_expenses = {\n",
    "    \"Hotel\": 1000,\n",
    "    \"Food\": 900,\n",
    "    \"Transportation\": 600,\n",
    "    \"Attractions\": 400,\n",
    "    \"Miscellaneous\": 150\n",
    "}\n",
    "\n",
    "your_total_expenses = sum(your_expenses.values())\n",
    "partner_total_expenses = sum(partner_expenses.values())\n",
    "\n",
    "print(\"Your total expenses:\", your_total_expenses)\n",
    "print(\"Partner's total expenses:\", partner_total_expenses)\n",
    "\n",
    "if your_total_expenses > partner_total_expenses:\n",
    "    print(\"You spent more money overall.\")\n",
    "elif your_total_expenses < partner_total_expenses:\n",
    "    print(\"Your partner spent more money overall.\")\n",
    "else:\n",
    "    print(\"You and your partner spent the same amount of money overall.\")\n",
    "\n",
    "significant_difference_category = None\n",
    "max_difference = 0\n",
    "\n",
    "for category in your_expenses:\n",
    "    difference = abs(your_expenses[category] - partner_expenses[category])\n",
    "    if difference > max_difference:\n",
    "        max_difference = difference\n",
    "        significant_difference_category = category\n",
    "\n",
    "print(\"The expense category with a significant difference in spending is:\", significant_difference_category)\n",
    "print(\"The difference in spending is:\", max_difference)"
   ]
  },
  {
   "cell_type": "code",
   "execution_count": null,
   "id": "75c2b90f",
   "metadata": {},
   "outputs": [],
   "source": [
    "class Avenger:\n",
    "    def __init__(self, name, age, gender, super_power, weapon):\n",
    "        self.name = name\n",
    "        self.age = age\n",
    "        self.gender = gender\n",
    "        self.super_power = super_power\n",
    "        self.weapon = weapon\n",
    "    \n",
    "    def get_info(self):\n",
    "        return f\"Name: {self.name}, Age: {self.age}, Gender: {self.gender}, Super Power: {self.super_power}, Weapon: {self.weapon}\"\n",
    "    \n",
    "    def is_leader(self):\n",
    "        leaders = [\"Captain America\", \"Iron Man\", \"Black Widow\", \"Hulk\", \"Thor\", \"Hawkeye\"]\n",
    "        if self.name in leaders:\n",
    "            return True\n",
    "        else:\n",
    "            return False\n",
    "\n",
    "# Create Avenger objects for each superhero\n",
    "super_heroes = [\n",
    "    Avenger(\"Captain America\", 100, \"Male\", \"Super strength\", \"Shield\"),\n",
    "    Avenger(\"Iron Man\", 40, \"Male\", \"Technology\", \"Armor\"),\n",
    "    Avenger(\"Black Widow\", 36, \"Female\", \"Superhuman\", \"Batons\"),\n",
    "    Avenger(\"Hulk\", 49, \"Male\", \"Unlimited Strength\", \"No Weapon\"),\n",
    "    Avenger(\"Thor\", 1500, \"Male\", \"Super Energy\", \"Mjölnir\"),\n",
    "    Avenger(\"Hawkeye\", 45, \"Male\", \"Fighting skills\", \"Bow and Arrows\")\n",
    "]\n",
    "\n",
    "# Test the methods for each Avenger\n",
    "for hero in super_heroes:\n",
    "    print(hero.get_info())\n",
    "    print(f\"{hero.name} is a leader: {hero.is_leader()}\")\n",
    "    print()\n"
   ]
  },
  {
   "cell_type": "code",
   "execution_count": null,
   "id": "bf0d4168",
   "metadata": {},
   "outputs": [],
   "source": [
    "class MobilePhone:\n",
    "    def __init__(self, screen_type, network_type, dual_sim, front_camera, rear_camera, ram, storage):\n",
    "        self.screen_type = screen_type\n",
    "        self.network_type = network_type\n",
    "        self.dual_sim = dual_sim\n",
    "        self.front_camera = front_camera\n",
    "        self.rear_camera = rear_camera\n",
    "        self.ram = ram\n",
    "        self.storage = storage\n",
    "    \n",
    "    def make_call(self):\n",
    "        print(\"Making a call...\")\n",
    "    \n",
    "    def receive_call(self):\n",
    "        print(\"Receiving a call...\")\n",
    "    \n",
    "    def take_a_picture(self):\n",
    "        print(\"Taking a picture...\")\n",
    "\n",
    "class Apple(MobilePhone):\n",
    "    def __init__(self, screen_type, network_type, dual_sim, front_camera, rear_camera, ram, storage, face_id):\n",
    "        super().__init__(screen_type, network_type, dual_sim, front_camera, rear_camera, ram, storage)\n",
    "        self.face_id = face_id\n",
    "    \n",
    "    def use_face_id(self):\n",
    "        print(\"Using Face ID...\")\n",
    "\n",
    "class Samsung(MobilePhone):\n",
    "    def __init__(self, screen_type, network_type, dual_sim, front_camera, rear_camera, ram, storage, iris_scanner):\n",
    "        super().__init__(screen_type, network_type, dual_sim, front_camera, rear_camera, ram, storage)\n",
    "        self.iris_scanner = iris_scanner\n",
    "    \n",
    "    def use_iris_scanner(self):\n",
    "        print(\"Using Iris Scanner...\")\n",
    "\n",
    "# Creating objects of Apple class\n",
    "iphone_12 = Apple(\"Touch Screen\", \"5G\", False, \"12MP\", \"12MP\", \"4GB\", \"64GB\", True)\n",
    "iphone_11 = Apple(\"Touch Screen\", \"4G\", True, \"8MP\", \"12MP\", \"3GB\", \"128GB\", True)\n",
    "\n",
    "# Creating objects of Samsung class\n",
    "galaxy_s21 = Samsung(\"Touch Screen\", \"5G\", True, \"16MP\", \"48MP\", \"8GB\", \"256GB\", True)\n",
    "galaxy_s20 = Samsung(\"Touch Screen\", \"5G\", True, \"12MP\", \"32MP\", \"6GB\", \"128GB\", True)\n",
    "\n",
    "# Testing functionalities\n",
    "iphone_12.make_call()\n",
    "galaxy_s21.take_a_picture()\n",
    "iphone_11.receive_call()\n",
    "galaxy_s20.use_iris_scanner()"
   ]
  },
  {
   "cell_type": "code",
   "execution_count": null,
   "id": "75942e22",
   "metadata": {},
   "outputs": [],
   "source": []
  }
 ],
 "metadata": {
  "kernelspec": {
   "display_name": "Python 3 (ipykernel)",
   "language": "python",
   "name": "python3"
  },
  "language_info": {
   "codemirror_mode": {
    "name": "ipython",
    "version": 3
   },
   "file_extension": ".py",
   "mimetype": "text/x-python",
   "name": "python",
   "nbconvert_exporter": "python",
   "pygments_lexer": "ipython3",
   "version": "3.9.13"
  }
 },
 "nbformat": 4,
 "nbformat_minor": 5
}
